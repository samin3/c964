{
 "cells": [
  {
   "cell_type": "code",
   "execution_count": 21,
   "metadata": {},
   "outputs": [],
   "source": [
    "import os\n",
    "import pandas as pd\n",
    "import matplotlib.pyplot as plt"
   ]
  },
  {
   "cell_type": "code",
   "execution_count": 25,
   "metadata": {},
   "outputs": [],
   "source": [
    "src = '../data'\n",
    "files = [f for f in os.listdir(src) if os.path.isfile(os.path.join(src,f))]\n",
    "for file in files:\n",
    "    df = pd.read_csv(os.path.join(src,file))\n",
    "    df['price'] = df[['High','Low']].mean(axis=1)\n",
    "    df = df.drop(df.columns.difference(['Date','price']), axis=1)\n",
    "    df = df.rename(columns={'Date':'date'})\n",
    "    df.to_csv(os.path.join(src,file))"
   ]
  }
 ],
 "metadata": {
  "kernelspec": {
   "display_name": "Python 3",
   "language": "python",
   "name": "python3"
  },
  "language_info": {
   "codemirror_mode": {
    "name": "ipython",
    "version": 3
   },
   "file_extension": ".py",
   "mimetype": "text/x-python",
   "name": "python",
   "nbconvert_exporter": "python",
   "pygments_lexer": "ipython3",
   "version": "3.7.5"
  }
 },
 "nbformat": 4,
 "nbformat_minor": 2
}
