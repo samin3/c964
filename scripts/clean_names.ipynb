{
 "cells": [
  {
   "cell_type": "code",
   "execution_count": 2,
   "metadata": {},
   "outputs": [],
   "source": [
    "import os\n",
    "import shutil\n",
    "\n",
    "src = '../raw'\n",
    "dst = '../data'\n",
    "\n",
    "files = [f for f in os.listdir(src) if os.path.isfile(os.path.join(src,f))]\n",
    "new_names = []\n",
    "for file in files:\n",
    "    name, ext = os.path.splitext(file)\n",
    "    name = name.split('_',1)[0]\n",
    "    new_names.append(os.path.join(dst,name+ext))\n",
    "\n",
    "names = zip([os.path.join(src,f) for f in files], new_names)\n",
    "for old_name, new_name in names:\n",
    "    shutil.copy(old_name, new_name)"
   ]
  },
  {
   "cell_type": "code",
   "execution_count": null,
   "metadata": {},
   "outputs": [],
   "source": []
  }
 ],
 "metadata": {
  "kernelspec": {
   "display_name": "Python 3",
   "language": "python",
   "name": "python3"
  },
  "language_info": {
   "codemirror_mode": {
    "name": "ipython",
    "version": 3
   },
   "file_extension": ".py",
   "mimetype": "text/x-python",
   "name": "python",
   "nbconvert_exporter": "python",
   "pygments_lexer": "ipython3",
   "version": "3.7.5"
  }
 },
 "nbformat": 4,
 "nbformat_minor": 2
}
