{
 "cells": [
  {
   "cell_type": "code",
   "execution_count": 1,
   "metadata": {},
   "outputs": [
    {
     "name": "stderr",
     "output_type": "stream",
     "text": [
      "Using TensorFlow backend.\n"
     ]
    }
   ],
   "source": [
    "import os\n",
    "import numpy as np\n",
    "import pandas as pd\n",
    "import matplotlib.pyplot as plt\n",
    "from keras.models import Sequential\n",
    "from keras.layers import LSTM, Dense\n",
    "from sklearn.preprocessing import MinMaxScaler\n",
    "\n",
    "def add_shifts(data, n_in, n_out):\n",
    "    \"\"\"featurize by shifting data and creating new columns\"\"\"\n",
    "    df = pd.DataFrame(data)\n",
    "    cols, names = [], []\n",
    "    for i in range(n_in, 0, -1):\n",
    "        cols.append(df.shift(i))\n",
    "        names.append('t-{}'.format(i))\n",
    "    for i in range(0, n_out):\n",
    "        cols.append(df.shift(-i))\n",
    "        names.append('t' if i==0 else 't+{}'.format(i))\n",
    "    result = pd.concat(cols,axis=1)\n",
    "    result.columns = names\n",
    "    result = result.dropna()\n",
    "    return result\n",
    "\n",
    "def prepare(data, n_test, n_in, n_out):\n",
    "    \"\"\"scale to range [-1,1], add_shifts, split into test & train data\"\"\"\n",
    "    arr = np.array(data.diff()).reshape(-1,1)\n",
    "    scaler = MinMaxScaler(feature_range=(-1,1))\n",
    "    arr = add_shifts(scaler.fit_transform(arr), n_in, n_out).values\n",
    "    return scaler, arr[:-n_test], arr[-n_test:]\n",
    "\n",
    "def create_lstm(data, n_in, n_batch, n_epochs, n_neurons):\n",
    "    \"\"\"split data into train & target, reshape to keras requirements, fit model\"\"\"\n",
    "    X, y = data[:,:n_in], data[:,n_in:]\n",
    "    X = X.reshape(X.shape[0], 1, X.shape[1])\n",
    "    model = Sequential()\n",
    "    model.add(LSTM(n_neurons, batch_input_shape=(n_batch, X.shape[1], X.shape[2]), stateful=True))\n",
    "    model.add(Dense(y.shape[1]))\n",
    "    model.compile(loss='mean_squared_error', optimizer='adam')\n",
    "    for i in range(n_epochs):\n",
    "        model.fit(X, y, epochs=1, batch_size=n_batch, verbose=0, shuffle=False)\n",
    "        model.reset_states()\n",
    "    return model"
   ]
  },
  {
   "cell_type": "code",
   "execution_count": 2,
   "metadata": {},
   "outputs": [],
   "source": [
    "n_test, n_in, n_out = 19, 10, 3\n",
    "n_epochs, n_neurons, n_batch = 100, 50, 1\n",
    "src = '../data'\n",
    "dst = '../models'\n",
    "\n",
    "files = [f for f in os.listdir(src) if os.path.isfile(os.path.join(src,f))]\n",
    "for file in files:\n",
    "    df = pd.read_csv(os.path.join(src,file))\n",
    "    name, ext = os.path.splitext(file)\n",
    "    scaler, train, test = prepare(df.price, n_test, n_in, n_out)\n",
    "    model = create_lstm(train, n_in, n_batch, n_epochs, n_neurons)\n",
    "    model.save(os.path.join(dst,name+'.h5'))"
   ]
  },
  {
   "cell_type": "code",
   "execution_count": null,
   "metadata": {},
   "outputs": [],
   "source": []
  }
 ],
 "metadata": {
  "kernelspec": {
   "display_name": "Python 3",
   "language": "python",
   "name": "python3"
  },
  "language_info": {
   "codemirror_mode": {
    "name": "ipython",
    "version": 3
   },
   "file_extension": ".py",
   "mimetype": "text/x-python",
   "name": "python",
   "nbconvert_exporter": "python",
   "pygments_lexer": "ipython3",
   "version": "3.7.5"
  }
 },
 "nbformat": 4,
 "nbformat_minor": 2
}
