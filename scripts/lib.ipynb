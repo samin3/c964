{
 "cells": [
  {
   "cell_type": "code",
   "execution_count": 27,
   "metadata": {},
   "outputs": [],
   "source": [
    "import numpy as np\n",
    "import pandas as pd\n",
    "import matplotlib.pyplot as plt\n",
    "from keras.models import Sequential, load_model\n",
    "from keras.layers import LSTM, Dense\n",
    "from sklearn.preprocessing import MinMaxScaler"
   ]
  },
  {
   "cell_type": "code",
   "execution_count": 4,
   "metadata": {},
   "outputs": [],
   "source": [
    "def add_shifts(data, n_in, n_out):\n",
    "    df = pd.DataFrame(data)\n",
    "    cols, names = [], []\n",
    "    for i in range(n_in, 0, -1):\n",
    "        cols.append(df.shift(i))\n",
    "        names.append('t-{}'.format(i))\n",
    "    for i in range(0, n_out):\n",
    "        cols.append(df.shift(-i))\n",
    "        names.append('t' if i==0 else 't+{}'.format(i))\n",
    "    result = pd.concat(cols,axis=1)\n",
    "    result.columns = names\n",
    "    result = result.dropna()\n",
    "    return result"
   ]
  },
  {
   "cell_type": "code",
   "execution_count": 5,
   "metadata": {},
   "outputs": [],
   "source": [
    "def prepare(data, n_test, n_in, n_out):\n",
    "    arr = np.array(data.diff()).reshape(-1,1)\n",
    "    scaler = MinMaxScaler(feature_range=(-1,1))\n",
    "    arr = add_shifts(scaler.fit_transform(arr), n_in, n_out).values\n",
    "    return scaler, arr[:-n_test], arr[-n_test:]"
   ]
  },
  {
   "cell_type": "code",
   "execution_count": 6,
   "metadata": {},
   "outputs": [],
   "source": [
    "def create_lstm(data, n_in, n_batch, n_epochs, n_neurons):\n",
    "    X, y = data[:,:n_in], data[:,n_in:]\n",
    "    X = X.reshape(X.shape[0], 1, X.shape[1])\n",
    "    model = Sequential()\n",
    "    model.add(LSTM(n_neurons, batch_input_shape=(n_batch, X.shape[1], X.shape[2]), stateful=True))\n",
    "    model.add(Dense(y.shape[1]))\n",
    "    model.compile(loss='mean_squared_error', optimizer='adam')\n",
    "    for i in range(n_epochs):\n",
    "        model.fit(X, y, epochs=1, batch_size=n_batch, verbose=0, shuffle=False)\n",
    "        model.reset_states()\n",
    "    return model"
   ]
  },
  {
   "cell_type": "code",
   "execution_count": 7,
   "metadata": {},
   "outputs": [],
   "source": [
    "def next_forecast(model, X, n_batch):\n",
    "    X = X.reshape(1,1,-1)\n",
    "    return [x for x in model.predict(X, batch_size=n_batch)]"
   ]
  },
  {
   "cell_type": "code",
   "execution_count": 8,
   "metadata": {},
   "outputs": [],
   "source": [
    "def predict(model, test, n_in, n_out, n_batch):\n",
    "    forecasts = []\n",
    "    for i in range(0,len(test),n_out):\n",
    "        X = test[i,:n_in]\n",
    "        forecasts.append(next_forecast(model, X, n_batch))\n",
    "    return forecasts"
   ]
  },
  {
   "cell_type": "code",
   "execution_count": 9,
   "metadata": {},
   "outputs": [],
   "source": [
    "def undiff(last, diffs):\n",
    "    result = []\n",
    "    result.append(last + diffs[0])\n",
    "    for i in range(1, len(diffs)):\n",
    "        result.append(diffs[i] + result[i-1])\n",
    "    return result"
   ]
  },
  {
   "cell_type": "code",
   "execution_count": 10,
   "metadata": {},
   "outputs": [],
   "source": [
    "def inverse_transform(data, forecasts, scaler, n_test):\n",
    "    converted = []\n",
    "    for i in range(len(forecasts)):\n",
    "        forecast = scaler.inverse_transform(np.array(forecasts[i]))[0,:]\n",
    "        index = len(data) - n_test + i - 1\n",
    "        last = data[index]\n",
    "        converted.append(undiff(last, forecast))\n",
    "    return converted"
   ]
  },
  {
   "cell_type": "code",
   "execution_count": 11,
   "metadata": {},
   "outputs": [],
   "source": [
    "def plot_forecast(data, forecasts, n_in, n_out):\n",
    "    plt.figure(figsize=(20,10))\n",
    "    plt.grid()\n",
    "    plt.plot(data)\n",
    "    for i in range(0,len(forecasts)):\n",
    "        s = n_in + n_out*i - 1\n",
    "        e = s + len(forecasts[i]) + 1\n",
    "        x = [x for x in range(s, e)]\n",
    "        y = [data[s]] + forecasts[i]\n",
    "        plt.plot(x, y, color='red')\n",
    "    plt.show()"
   ]
  }
 ],
 "metadata": {
  "kernelspec": {
   "display_name": "Python 3",
   "language": "python",
   "name": "python3"
  },
  "language_info": {
   "codemirror_mode": {
    "name": "ipython",
    "version": 3
   },
   "file_extension": ".py",
   "mimetype": "text/x-python",
   "name": "python",
   "nbconvert_exporter": "python",
   "pygments_lexer": "ipython3",
   "version": "3.7.5"
  }
 },
 "nbformat": 4,
 "nbformat_minor": 2
}
